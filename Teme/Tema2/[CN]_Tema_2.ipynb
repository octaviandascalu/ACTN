{
  "cells": [
    {
      "cell_type": "markdown",
      "id": "a69c444a",
      "metadata": {
        "id": "a69c444a"
      },
      "source": [
        "# Tema 2\n",
        "\n",
        "Topics:\n",
        "1. Metoda substitutiei inverse\n",
        "2. Algoritmul de Elminiare Gauss"
      ]
    },
    {
      "cell_type": "code",
      "execution_count": 80,
      "metadata": {
        "id": "5c5865ad"
      },
      "outputs": [],
      "source": [
        "import numpy as np\n",
        "import unittest\n",
        "import random\n",
        "import seaborn as sns\n",
        "import matplotlib.pylab as plt\n",
        "\n",
        "np.random.seed(10)\n",
        "\n",
        "np.set_printoptions(suppress=True)\n",
        "#np.set_printoptions(precision=7)"
      ],
      "id": "5c5865ad"
    },
    {
      "cell_type": "markdown",
      "id": "b475e101",
      "metadata": {
        "id": "b475e101"
      },
      "source": [
        "## 1. Metoda substitutiei inverse\n",
        "\n",
        "**TL;DR:** Metoda substituiei inverse rezolva sisteme linare in care matricea asociata sistemului este triunghiulara (inferior sau superior)."
      ]
    },
    {
      "cell_type": "markdown",
      "id": "a11e7e0e",
      "metadata": {
        "id": "a11e7e0e"
      },
      "source": [
        "* **Ce este o matrice triunghiulara superior?** O matrice triunghiulara superior este o matrice care are valori nule sub diagonala principala. "
      ]
    },
    {
      "cell_type": "code",
      "execution_count": 81,
      "id": "be9feffe",
      "metadata": {
        "colab": {
          "base_uri": "https://localhost:8080/"
        },
        "id": "be9feffe",
        "outputId": "d70e69dc-28f9-4106-9778-fde9f18a7e56"
      },
      "outputs": [
        {
          "output_type": "execute_result",
          "data": {
            "text/plain": [
              "array([[ 1,  2,  3,  4],\n",
              "       [ 5,  6,  7,  8],\n",
              "       [ 9, 10, 11, 12],\n",
              "       [13, 14, 15, 16]])"
            ]
          },
          "metadata": {},
          "execution_count": 81
        }
      ],
      "source": [
        "# generate a 4x4 matrix with elements from 1 to 16\n",
        "A = (np.arange(4*4) + 1).reshape(4, 4)\n",
        "A"
      ]
    },
    {
      "cell_type": "code",
      "execution_count": 82,
      "id": "b375703c",
      "metadata": {
        "colab": {
          "base_uri": "https://localhost:8080/"
        },
        "id": "b375703c",
        "outputId": "c31bee75-960b-4abe-c86b-8ac831e033d7"
      },
      "outputs": [
        {
          "output_type": "execute_result",
          "data": {
            "text/plain": [
              "array([[ 1,  2,  3,  4],\n",
              "       [ 0,  6,  7,  8],\n",
              "       [ 0,  0, 11, 12],\n",
              "       [ 0,  0,  0, 16]])"
            ]
          },
          "metadata": {},
          "execution_count": 82
        }
      ],
      "source": [
        "# generated superior triangular matrix from A\n",
        "np.triu(A)"
      ]
    },
    {
      "cell_type": "markdown",
      "id": "56049b03",
      "metadata": {
        "id": "56049b03"
      },
      "source": [
        "* **Ce este o matrice triunghiulara inferior?** O matrice triunghiulara inferior este o matrice care are valori nule deasupra diagonala principala. "
      ]
    },
    {
      "cell_type": "code",
      "execution_count": 83,
      "id": "d418ab7b",
      "metadata": {
        "colab": {
          "base_uri": "https://localhost:8080/"
        },
        "id": "d418ab7b",
        "outputId": "0078da23-f561-4dcd-9639-25772705ddcd"
      },
      "outputs": [
        {
          "output_type": "execute_result",
          "data": {
            "text/plain": [
              "array([[ 1,  0,  0,  0],\n",
              "       [ 5,  6,  0,  0],\n",
              "       [ 9, 10, 11,  0],\n",
              "       [13, 14, 15, 16]])"
            ]
          },
          "metadata": {},
          "execution_count": 83
        }
      ],
      "source": [
        "# generated inferior triangular matrix from A\n",
        "np.tril(A)"
      ]
    },
    {
      "cell_type": "markdown",
      "id": "ccd95f78",
      "metadata": {
        "id": "ccd95f78"
      },
      "source": [
        "### Metoda substitutiei inverse\n",
        "Fie sistemul liniar:\n",
        "$$\n",
        "A x=b\n",
        "$$\n",
        "\n",
        "unde matricea sistemului $A$ este **triunghiulară superior**. Pentru a găsi soluţia unică a sistemului, trebuie ca matricea să fie nesingulară. Determinantul matricelor triunghiulare este dat de formula:\n",
        "$$\n",
        "\\operatorname{det} A=a_{11} a_{22} \\cdots a_{n n}\n",
        "$$\n",
        "Prin urmare, pentru rezolvarea sistemului vom presupune că:\n",
        "$$\n",
        "\\operatorname{det} A \\neq 0 \\Longleftrightarrow a_{i i} \\neq 0 \\quad \\forall i=1,2, \\ldots, n\n",
        "$$\n",
        "Vom considera sistemul liniar cu matrice superior triunghiulară:\n",
        "\n",
        "\\begin{align*}\n",
        "a_{11} x_{1}+\\cdots+a_{1 i} x_{i}+\\cdots+a_{1 n-1} x_{n-1}+a_{1 n} x_{n}&=b_{1}\\\\\n",
        "\\cdots\\\\\n",
        "a_{i i} x_{i}+\\cdots+a_{i n-1} x_{n-1}+a_{i n} x_{n}&=b_{i}\\\\\n",
        "\\cdots\\\\\n",
        "a_{n-1 n-1} x_{n-1}+a_{n-1 n} x_{n}&=b_{n-1}\\\\\n",
        "a_{n n} x_{n}&=b_{n}\\\\\n",
        "\\end{align*}\n",
        "\n",
        "Necunoscutele $x_{1}, x_{2}, \\ldots, x_{n}$ se deduc pe rând, folosind ecuaţiile sistemului de la ultima către prima. Din ultima ecuaţie, deducem valoarea lui $x_{n}$ :\n",
        "$$\n",
        "x_{n}=\\frac{b_{n}}{a_{n n}}\n",
        "$$\n",
        "Folosind valoarea lui $x_{n}$ calculată mai sus, din penultima ecuaţie obţinem:\n",
        "$$\n",
        "x_{n-1}=\\frac{b_{n-1}-a_{n-1 n} x_{n}}{a_{n-1 n-1}}\n",
        "$$\n",
        "\n",
        "\n",
        "Continuăm să calculăm valori $x_{i}$ din ecuaţiile sistemului:\n",
        "$$\n",
        "x_{i}=\\frac{b_{i}-a_{i i+1} x_{i+1}-\\cdots-a_{i n} x_{n}}{a_{i i}}\n",
        "$$\n",
        "Din prima ecuaţie găsim valoarea lui $x_{1}$ :\n",
        "$$\n",
        "x_{1}=\\frac{b_{1}-a_{12} x_{2}-\\cdots-a_{1 n} x_{n}}{a_{11}}\n",
        "$$\n",
        "Procedeul descris mai sus poartă numele de metoda substituţiei inverse pentru rezolvarea sistemelor liniare cu matrice superior triunghiulară:\n",
        "$$\n",
        "x_{i}=\\frac{\\left(b_{i}-\\sum_{j=i+1}^{n} a_{i j} x_{j}\\right)}{a_{i i}} \\quad, \\quad i=n, n-1, \\ldots, 2,1\n",
        "$$"
      ]
    },
    {
      "cell_type": "markdown",
      "id": "9f43fece",
      "metadata": {
        "id": "9f43fece"
      },
      "source": [
        "#### Exemplu pentru metoda substitutiei inverse\n",
        "$$\n",
        "\\left(\\begin{array}{ccc}\n",
        "3 & 1 & -5 \\\\\n",
        "& -2 & 4 \\\\\n",
        "& & 2\n",
        "\\end{array}\\right)\\left(\\begin{array}{l}\n",
        "x_{1} \\\\\n",
        "x_{2} \\\\\n",
        "x_{3}\n",
        "\\end{array}\\right)=\\left(\\begin{array}{c}\n",
        "1 \\\\\n",
        "10 \\\\\n",
        "6\n",
        "\\end{array}\\right)$$\n",
        "\n",
        "#### Rezolvare:\n",
        "\n",
        "$$x_n = \\frac{b_n}{a_{nn}} \\Rightarrow x_3 = \\frac{b_3}{a_{33}} = \\frac{6}{2} = 3$$\n",
        "\n",
        "\n",
        "$$\n",
        "x_{i}=\\frac{\\left(b_{i}-\\sum_{j=i+1}^{n} a_{i j} x_{j}\\right)}{a_{i i}} \\quad, \\quad i=n, n-1, \\ldots, 2,1\n",
        "\\Rightarrow\n",
        "x_2=\\frac{10 - (4 * 3)}{-2}=1\n",
        "$$\n",
        "\n",
        "$$\n",
        "x_1=\\frac{1 - ((1 * 1) + (-5 * 3))}{3} = \\frac{1 - (-14)}{3} = \\frac{15}{3} = 5\n",
        "$$"
      ]
    },
    {
      "cell_type": "code",
      "execution_count": 84,
      "id": "57b5773e",
      "metadata": {
        "colab": {
          "base_uri": "https://localhost:8080/"
        },
        "id": "57b5773e",
        "outputId": "a87b60a6-6c4c-4ea0-e9da-2d19ac6e530a"
      },
      "outputs": [
        {
          "output_type": "execute_result",
          "data": {
            "text/plain": [
              "(array([[10, 16, 65, 29, 90, 94, 30,  9, 74,  1],\n",
              "        [ 0, 37, 17, 12, 55, 89, 63, 34, 73, 79],\n",
              "        [ 0,  0, 55, 78, 70, 14, 26, 14, 93, 87],\n",
              "        [ 0,  0,  0, 13, 66, 32, 58, 37, 28, 19],\n",
              "        [ 0,  0,  0,  0, 95, 12, 29, 75, 89, 10],\n",
              "        [ 0,  0,  0,  0,  0, 12, 18, 47,  8, 76],\n",
              "        [ 0,  0,  0,  0,  0,  0,  6,  5, 72, 89],\n",
              "        [ 0,  0,  0,  0,  0,  0,  0, 16,  7, 86],\n",
              "        [ 0,  0,  0,  0,  0,  0,  0,  0, 43, 58],\n",
              "        [ 0,  0,  0,  0,  0,  0,  0,  0,  0, 24]]),\n",
              " array([ 4, 30, 17, 85, 83, 15, 52, 80, 18, 51]))"
            ]
          },
          "metadata": {},
          "execution_count": 84
        }
      ],
      "source": [
        "# Generate random superior triangular system\n",
        "n = 10\n",
        "A = np.random.randint(low=1, high=100, size=n*n).reshape(n, n)\n",
        "A = np.triu(A)\n",
        "b = np.random.randint(low=1, high=100, size=n)\n",
        "\n",
        "A, b"
      ]
    },
    {
      "cell_type": "code",
      "source": [
        "def substitution_method(A, b, n):\n",
        "  det_A = 1\n",
        "  for i in range(0, n):\n",
        "      det_A *= A[i][i]\n",
        "\n",
        "  if det_A != 0:\n",
        "    x = np.zeros(n)\n",
        "    for i in reversed(range(n)):\n",
        "      x[i] = b[i]\n",
        "      sum = 0\n",
        "      for j in range(i + 1, n):\n",
        "        sum = sum + A[i][j] * x[j]\n",
        "      x[i] -= sum\n",
        "      x[i] /= A[i][i]\n",
        "\n",
        "  else:\n",
        "\n",
        "     raise Exception(\"Matrice singulara\")\n",
        "\n",
        "  return x"
      ],
      "metadata": {
        "id": "RvzHGGuwf6E9"
      },
      "id": "RvzHGGuwf6E9",
      "execution_count": 85,
      "outputs": []
    },
    {
      "cell_type": "code",
      "execution_count": 86,
      "id": "159eaf25",
      "metadata": {
        "colab": {
          "base_uri": "https://localhost:8080/"
        },
        "id": "159eaf25",
        "outputId": "8cb6b04a-241d-40f1-ca7e-e5bf41f8b5be"
      },
      "outputs": [
        {
          "output_type": "execute_result",
          "data": {
            "text/plain": [
              "array([-138.82179682,  -12.53522996,   40.25857887,  -33.34281161,\n",
              "          4.58517824,   -6.08406008,   10.97710756,   -5.35101744,\n",
              "         -2.44767442,    2.125     ])"
            ]
          },
          "metadata": {},
          "execution_count": 86
        }
      ],
      "source": [
        "# Apply substitution method\n",
        "x = substitution_method(A, b, n)\n",
        "x"
      ]
    },
    {
      "cell_type": "code",
      "execution_count": 87,
      "id": "993e0a78",
      "metadata": {
        "colab": {
          "base_uri": "https://localhost:8080/"
        },
        "id": "993e0a78",
        "outputId": "a332aad7-8401-45b6-9b0f-da567e207111"
      },
      "outputs": [
        {
          "output_type": "execute_result",
          "data": {
            "text/plain": [
              "array([ 0.,  0.,  0.,  0., -0.,  0.,  0.,  0.,  0.,  0.])"
            ]
          },
          "metadata": {},
          "execution_count": 87
        }
      ],
      "source": [
        "# Compute norm between the matrix multiplication of A and our solution\n",
        "diff = A @ x - b\n",
        "diff"
      ]
    },
    {
      "cell_type": "code",
      "execution_count": 88,
      "id": "4e2309fc",
      "metadata": {
        "colab": {
          "base_uri": "https://localhost:8080/"
        },
        "id": "4e2309fc",
        "outputId": "f22faf4b-6cc3-4d64-f0e0-088ac7dfc56c"
      },
      "outputs": [
        {
          "output_type": "stream",
          "name": "stdout",
          "text": [
            "Matrice singulara\n"
          ]
        }
      ],
      "source": [
        "# Test if the matrix is singular\n",
        "A[2, 2] = 0\n",
        "\n",
        "try: \n",
        "    x = substitution_method(A, b, n)\n",
        "except Exception as e: \n",
        "    print(e)"
      ]
    },
    {
      "cell_type": "markdown",
      "id": "1f6293b8",
      "metadata": {
        "id": "1f6293b8"
      },
      "source": [
        "### 2. Algoritmul de eliminare Gauss\n",
        "\n",
        "\n",
        "Ideea de rezolvare este de a transforma succesiv sistemul folosind operaţii elementare (ce nu modifică soluţia sistemului) şi a aduce matricea $A$ la o formă superior triunghiulară . Algoritmul se desfăşoară în $(n-1)$ paşi. La un pas $l$ oarecare se transformă coloana $l$ a matricei $A$ în formă superior triunghiulară fără a modifica forma triunghiulară a primelor $(l-1)$ coloane.\n",
        "\n",
        "\n",
        "**Pas $l$ :** Presupunem că elementul de pe poziţia $(l, l)$ numit şi element pivot este nenul, $a_{l l} \\neq 0$. Pentru $i=l+1, \\ldots, n$ se înmulteste linia $l$ a matricei $A$ $\\mathrm{cu}\\left(-a_{i l} / a_{l l}\\right)$ şi se adună la linia $i$. Schimbare se face şi asupra componentei $i$ a vectorului $b$. Matricea $A$ şi vectorul $b$ se modifică astfel:\n",
        "$$\n",
        "\\begin{aligned}\n",
        "&a_{i j}^{\\prime}=a_{i j}-\\frac{a_{i l}}{a_{l l}} a_{l j} \\quad, \\quad i=\\overline{l+1, n}, j=\\overline{l+1, n}  &(5)\\\\\n",
        "&b_{i}^{\\prime}=b_{i}-\\frac{a_{i l}}{a_{l l}} b_{l} \\quad, \\quad i=\\overline{l+1, n}  &(6)\\\\\n",
        "&a_{i l}^{\\prime}=0 \\quad, \\quad i=\\overline{l+1, n}, &(7)\\\\\n",
        "&a_{i j}^{\\prime}=a_{i j} \\quad, \\quad b_{i}^{\\prime}=b_{i} \\text { pentru restul indicilor } i, j\n",
        "\\end{aligned}\n",
        "$$\n",
        "\n",
        "In formula $(5)$ factorul $f=\\frac{a_{i l}}{a_{l l}}$ se calculează în afara buclei for pentru $j$."
      ]
    },
    {
      "cell_type": "code",
      "execution_count": 89,
      "outputs": [],
      "source": [
        "def pivot(A, b, l, n):\n",
        "  i0 = 0\n",
        "  max = 0\n",
        "  for i in range(l, n):\n",
        "    if abs(A[i][l]) > max:\n",
        "      max = abs(A[i][l])\n",
        "      i0 = i\n",
        "  A[i0], A[l] = A[l], A[i0]\n",
        "  b[i0], b[l] = b[l], b[i0]\n",
        "\n",
        "  return A, b"
      ],
      "metadata": {
        "pycharm": {
          "name": "#%%\n"
        },
        "id": "jgSCV8-x7OL_"
      },
      "id": "jgSCV8-x7OL_"
    },
    {
      "cell_type": "code",
      "source": [
        "# def gauss_algorithm(A, b, n):\n",
        "#   evo = []\n",
        "\n",
        "#   for l in range(n):\n",
        "#     evo.append(np.copy(A))\n",
        "#     A, b = pivot(A, b, l, n)\n",
        "    \n",
        "#     A_new = np.copy(A)\n",
        "#     b_new = np.copy(b)\n",
        "#     for i in range(l + 1, n):\n",
        "#       if abs(A[l][l]) == 0:\n",
        "#         print(\"Pivot Invalid\")\n",
        "#         print(evo)\n",
        "#         return None, None, None\n",
        "        \n",
        "#       f = A[i][l] / A[l][l]\n",
        "#       for j in range(l + 1, n):\n",
        "#         A_new[i][j] -= f * A[l][j]\n",
        "#       b[i] -= f * b[l]\n",
        "#       A_new[i][l] = 0\n",
        "\n",
        "#     A, b = A_new, b_new\n",
        "\n",
        "#   return A, b, evo\n",
        "\n",
        "def gauss_algorithm(A, b, n):\n",
        "    evo = []\n",
        "    A_copy = np.matrix.copy(A)\n",
        "    A_copy = A_copy.astype('float64')\n",
        "\n",
        "    B_copy = np.copy(b)\n",
        "    B_copy = B_copy.astype('float64')\n",
        "    evo.append(np.concatenate((A_copy, B_copy[:,None]),axis=1))\n",
        "    # evo.append((A_copy)\n",
        "    \n",
        "    for l in range(n - 1):\n",
        "      if A_copy[l][l] == 0.0:\n",
        "          print(\"Zero\")\n",
        "          A_copy = pivot(A_copy, B_copy, l, n)\n",
        "      for i in range(l + 1, n):\n",
        "          f = A_copy[i][l] / A_copy[l][l]\n",
        "\n",
        "          B_copy[i] = B_copy[i] - f * B_copy[l]\n",
        "\n",
        "          for j in range(l + 1, n):\n",
        "            A_copy[i][j] = A_copy[i][j] - f * A_copy[l][j]\n",
        "\n",
        "          A_copy[i][l] = 0\n",
        "          evo.append(np.concatenate((A_copy, B_copy[:,None]),axis=1))\n",
        "          # evo.append((A_copy)\n",
        "\n",
        "    #print(type(A_copy[1][1]), type(A_copy))\n",
        "\n",
        "    return A_copy, B_copy, evo"
      ],
      "metadata": {
        "id": "MFLhhgSW8EzO"
      },
      "id": "MFLhhgSW8EzO",
      "execution_count": 90,
      "outputs": []
    },
    {
      "cell_type": "markdown",
      "id": "5b250a58",
      "metadata": {
        "id": "5b250a58"
      },
      "source": [
        "#### Alegerea pivotului $a_{l l} \\neq 0\\left(\\left|a_{l l}\\right|>\\epsilon\\right)$\n",
        "\n",
        "Pentru a aduce pe poziţia $(l, l)$ un element nenul avem trei posibilităti:\n",
        "1. **Varianta fără pivotare** : Se alege primul indice $i_{0} \\in\\{l, l+1, \\cdots, n\\}$ astfel ca $a_{i_{0} l} \\neq 0$. Se interschimbă liniile $i_{0}$ şi $l$ ale matricei $A$ şi componentele $i_{0}$ şi $l$ ale vectorului $b$.\n",
        "2. **Varianta cu pivotare parțială**: \n",
        "Se alege indicele $i_{0} \\in\\{l, l+1, \\cdots, n\\}$ astfel ca:\n",
        "$$\n",
        "\\left|a_{i_{0} l}\\right|=\\max \\left\\{\\left|a_{i l}\\right|, i=\\overline{l, n}\\right\\} .\n",
        "$$\n",
        "Se interschimbă liniile $i_{0}$ şi $l$ ale matricei $A$ şi componentele $i_{0}$ şi $l$ ale vectorului $b$.\n",
        "3. **Varianta cu pivotare totală** \n",
        "Se aleg indicii $i_{0}, j_{0} \\in\\{l, l+1, \\cdots, n\\}$ astfel ca:\n",
        "$$\n",
        "\\left|a_{i_{0} j_{0}}\\right|=\\max \\left\\{\\left|a_{i j}\\right|, i=\\overline{l, n}, j=\\overline{l, n}\\right\\} .\n",
        "$$\n",
        "Se interschimbă liniile $i_{0}$ şi $l$, coloanele $j_{0}$ şi $l$ ale matricei $A$ şi componentele $i_{0}$ şi $l$ ale vectorului $b$.\n",
        "Dacă după efectuarea pivotării (indiferent de varianta de pivotare aleasă) elementul pivot este nul\n",
        "$$\n",
        "a_{l l}=0 \\quad \\sim \\quad \\operatorname{abs}(a[l, l]) \\leq \\epsilon\n",
        "$$\n",
        "atunci matricea $A$ este singulară.\n",
        "\n",
        "**Observaţii:**\n",
        "1. In pasul Gauss $l$ $(5)+(6)+(7)$ calculele se pot efectua în matricea $A$ iniţială $\\left(a^{\\prime}=a\\right)$.\n",
        "\n",
        "2. Dacă pentru memorarea matricei $A$ şi a vectorului $b$ se foloseşte o matrice cu $n$ linii şi $(n+1)$ coloane, vectorul $b$ fiind memorat în coloana $(n+1)$ a matricei $A$, calculele $(6)$ sunt incluse în $(5)$ pentru $j=n+1$; se simplifică şi interschimbarea liniilor $i_{0}$ şi $l$.\n",
        "\n",
        "3. Dacă pivotul se alege folosind varianta a 3-a, cu pivotare totală, la final trebuie să avem grijă sa restabilim ordinea iniţială a componentelor vectorului soluţie (ţinând cont de coloana $j_{0}$ a pivotului de la fiecare pas)."
      ]
    },
    {
      "cell_type": "markdown",
      "id": "93bbc9f1",
      "metadata": {
        "id": "93bbc9f1"
      },
      "source": [
        "#### Exemplu pentru algoritmul de eliminare Gauss\n",
        "\n",
        "Youtube: https://www.youtube.com/watch?v=2j5Ic2V7wq4 - puteti cauta si altele pt \"Gaussian elimination\"\n",
        "\n",
        "Exemplul din tema (fara pivotare):\n",
        "$$\n",
        "A=\\left(\\begin{array}{lll}\n",
        "2 & 0 & 1 \\\\\n",
        "0 & 2 & 1 \\\\\n",
        "4 & 4 & 6\n",
        "\\end{array}\\right) x=\\left(\\begin{array}{c}\n",
        "5 \\\\\n",
        "1 \\\\\n",
        "14\n",
        "\\end{array}\\right)\n",
        "$$\n",
        "\n",
        "1. **Pasul 1:** Verificam daca $a_{11}$ este nenul. Raspunsul este da, deci $a_{11}$ este un pivot valid. Astfel putem incepe sa facem valorile $a_{21}$ si $a_{31}$ nule.\n",
        "  * $a_{21}$ este deja nul, deci vom alsa linia $2$ neschimbata\n",
        "  * $a_{31}$ nu este nul, deci incercam sa facem elementul 0 inmultind linia 3 cu valoarea $(−𝑎_{𝑖𝑙}/𝑎{𝑙𝑙})$ unde $i = 3$, asadar Linia 3 devine $Linia3-2 * Linia 1$\n",
        "  Asadar\n",
        "  $$\n",
        "A=\\left(\\begin{array}{lll}\n",
        "2 & 0 & 1 \\\\\n",
        "0 & 2 & 1 \\\\\n",
        "0 & 4 & 4\n",
        "\\end{array}\\right) x=\\left(\\begin{array}{c}\n",
        "5 \\\\\n",
        "1 \\\\\n",
        "4\n",
        "\\end{array}\\right)\n",
        "$$\n",
        "\n",
        "1. **Pasul 2:** Verificam daca $a_{22}$ este nenul. Raspunsul este da, deci $a_{22}$ este un pivot valid. Astfel putem incepe sa facem valorea $a_{23}$ nula.\n",
        "  * $a_{23}$ nu este nula, deci incercam sa facem elementul 0 inmultind linia 2 cu -4/2 si adunand la linia 3\n",
        "  Asadar\n",
        "  $$\n",
        "A=\\left(\\begin{array}{lll}\n",
        "2 & 0 & 1 \\\\\n",
        "0 & 2 & 1 \\\\\n",
        "0 & 0 & 2\n",
        "\\end{array}\\right) x=\\left(\\begin{array}{c}\n",
        "5 \\\\\n",
        "1 \\\\\n",
        "2\n",
        "\\end{array}\\right)\n",
        "$$"
      ]
    },
    {
      "cell_type": "code",
      "execution_count": 91,
      "id": "4c70572e",
      "metadata": {
        "id": "4c70572e",
        "outputId": "f25809bc-7e20-4698-a285-11a49ea123c6",
        "colab": {
          "base_uri": "https://localhost:8080/"
        }
      },
      "outputs": [
        {
          "output_type": "execute_result",
          "data": {
            "text/plain": [
              "(array([[54, 26, 49, 18, 33],\n",
              "        [82, 81, 42, 91, 13],\n",
              "        [31, 82, 18, 17,  1],\n",
              "        [32, 74, 65, 39, 23],\n",
              "        [97, 67, 68, 63, 96]]), array([28, 83, 63, 78, 49]))"
            ]
          },
          "metadata": {},
          "execution_count": 91
        }
      ],
      "source": [
        "# Generate random superior triangular system\n",
        "n = 5\n",
        "A = np.random.randint(low=1, high=100, size=n*n).reshape(n, n)\n",
        "b = np.random.randint(low=1, high=100, size=n)\n",
        "#A[1][1] = 0\n",
        "A, b"
      ]
    },
    {
      "cell_type": "code",
      "source": [
        "#A, b = (np.array([[54, 26, 49, 18, 33],\n",
        " #       [82, 81, 42, 91, 13],\n",
        "  #      [31, 82, 18, 17,  1],\n",
        "   #     [32, 74, 65, 39, 23],\n",
        "    #    [97, 67, 68, 63, 96]]),\n",
        " #np.array([28, 83, 63, 78, 49]))"
      ],
      "metadata": {
        "id": "36q9V7Lqofaa"
      },
      "id": "36q9V7Lqofaa",
      "execution_count": 92,
      "outputs": []
    },
    {
      "cell_type": "code",
      "source": [
        "A_gauss, b_gauss, evo = gauss_algorithm(A, b, n)\n",
        "A_gauss, b_gauss"
      ],
      "metadata": {
        "colab": {
          "base_uri": "https://localhost:8080/"
        },
        "id": "3DwuW26LMz6d",
        "outputId": "e9b11e6c-720c-4bac-c7f4-6033ad42fcbe"
      },
      "id": "3DwuW26LMz6d",
      "execution_count": 93,
      "outputs": [
        {
          "output_type": "execute_result",
          "data": {
            "text/plain": [
              "(array([[ 54.        ,  26.        ,  49.        ,  18.        ,\n",
              "          33.        ],\n",
              "        [  0.        ,  41.51851852, -32.40740741,  63.66666667,\n",
              "         -37.11111111],\n",
              "        [  0.        ,   0.        ,  42.22524532, -96.1882248 ,\n",
              "          42.00936664],\n",
              "        [  0.        ,   0.        ,   0.        , 124.5897918 ,\n",
              "         -25.46278085],\n",
              "        [  0.        ,   0.        ,   0.        ,   0.        ,\n",
              "          56.98119568]]),\n",
              " array([ 28.        ,  40.48148148, -18.47279215,  40.0195629 ,\n",
              "        -19.71017638]))"
            ]
          },
          "metadata": {},
          "execution_count": 93
        }
      ]
    },
    {
      "cell_type": "code",
      "source": [
        "from __future__ import print_function\n",
        "from ipywidgets import interact, interactive, fixed, interact_manual\n",
        "import ipywidgets as widgets\n",
        "\n",
        "def f(x):\n",
        "    data_set = evo[x]\n",
        "    ax = sns.heatmap( data_set , vmin=-150, vmax=150, linewidth = 0 , cmap = 'coolwarm_r' )\n",
        "      \n",
        "    plt.title(\"Matrix evolution at step: \" + str(x) )\n",
        "    plt.show()\n",
        "\n",
        "def plot_matrix_evolution(evo, label):\n",
        "  interact(f, x=(0, 10, 1));\n"
      ],
      "metadata": {
        "id": "-R2UKe2UgOY9"
      },
      "id": "-R2UKe2UgOY9",
      "execution_count": 94,
      "outputs": []
    },
    {
      "cell_type": "code",
      "execution_count": 95,
      "id": "870cb14e",
      "metadata": {
        "id": "870cb14e",
        "outputId": "c80538a1-d866-4549-8a9b-99dbd381535a",
        "colab": {
          "base_uri": "https://localhost:8080/",
          "height": 313,
          "referenced_widgets": [
            "3667e163c2734346b13a64c62868e354",
            "501aad4503514fcdaee6106fcce96130",
            "ba11d0913c9e42ea9506946a27b36a2c",
            "74d79eecc5304089bcfb99635fdc20c7",
            "f396947b033b44a0806e2460260db527",
            "abda968cba764870bab851d2d1b96366",
            "5226e5494b704daabe30808a16759c07"
          ]
        }
      },
      "outputs": [
        {
          "output_type": "display_data",
          "data": {
            "text/plain": [
              "interactive(children=(IntSlider(value=5, description='x', max=10), Output()), _dom_classes=('widget-interact',…"
            ],
            "application/vnd.jupyter.widget-view+json": {
              "version_major": 2,
              "version_minor": 0,
              "model_id": "3667e163c2734346b13a64c62868e354"
            }
          },
          "metadata": {}
        }
      ],
      "source": [
        "plot_matrix_evolution(evo, \"Gauss algorithm matrix evolution\")"
      ]
    },
    {
      "cell_type": "code",
      "execution_count": 96,
      "id": "42cb55d5",
      "metadata": {
        "id": "42cb55d5",
        "outputId": "54f54e6a-6f0e-407e-f682-a23f034ca75e",
        "colab": {
          "base_uri": "https://localhost:8080/"
        }
      },
      "outputs": [
        {
          "output_type": "execute_result",
          "data": {
            "text/plain": [
              "array([-0.10174426,  0.65425972,  0.47732772,  0.25051665, -0.34590668])"
            ]
          },
          "metadata": {},
          "execution_count": 96
        }
      ],
      "source": [
        "x_gauss = substitution_method(A_gauss, b_gauss, n=n)\n",
        "x_gauss"
      ]
    },
    {
      "cell_type": "markdown",
      "id": "8328d968",
      "metadata": {
        "id": "8328d968"
      },
      "source": [
        "Fie $x_{\\text {Gauss }}$ soluţia aproximativă calculată. Să se verifice soluţia afişând următoarea normă:\n",
        "$$\n",
        "\\left\\|A^{i n i t} x_{G a u s s}-b^{i n i t}\\right\\|_{2}\n",
        "$$\n",
        "$A^{\\text {init }}$ şi $b^{\\text {init }}$ sunt datele iniţiale, nu cele modificate pe parcursul algoritmului. Am notat cu $\\|\\cdot\\|_{2}$ norma Euclidiană. Această normă ar trebui să fie mai mică decât $10^{-6}$, dacă aţi implementat corect metoda eliminării Gauss."
      ]
    },
    {
      "cell_type": "code",
      "source": [
        "def my_get_norm(vect, n, p):\n",
        "    sum = 0\n",
        "    for i in range(n):\n",
        "        sum = sum + np.float_power(np.fabs(vect[i]), p)\n",
        "\n",
        "    return np.float_power(sum, 1 / p)"
      ],
      "metadata": {
        "id": "ewLQ11bUgfQh"
      },
      "id": "ewLQ11bUgfQh",
      "execution_count": 97,
      "outputs": []
    },
    {
      "cell_type": "code",
      "execution_count": 98,
      "id": "6084bbab",
      "metadata": {
        "id": "6084bbab",
        "outputId": "ff373065-157b-4517-8796-e196907c69a8",
        "colab": {
          "base_uri": "https://localhost:8080/"
        }
      },
      "outputs": [
        {
          "output_type": "stream",
          "name": "stdout",
          "text": [
            "Normele sunt egale\n",
            "Mai mic ca 10 la -6\n",
            "2.2469334198890888e-14\n",
            "2.2469334198890888e-14\n"
          ]
        }
      ],
      "source": [
        "norm = my_get_norm(A @ x_gauss - b, n, 2)\n",
        "norm_lib = np.linalg.norm(A @ x_gauss - b)\n",
        "if norm == norm_lib:\n",
        "    print(\"Normele sunt egale\")\n",
        "if norm_lib <= np.float_power(10, -6):\n",
        "    print(\"Mai mic ca 10 la -6\")\n",
        "print(norm)\n",
        "print(norm_lib)"
      ]
    },
    {
      "cell_type": "markdown",
      "id": "3a46f36b",
      "metadata": {
        "id": "3a46f36b"
      },
      "source": [
        "Folosindu-se una din bibliotecile menţionate în pagina laboratorului, să se calculeze şi să se afişeze soluţia sistemului $A x=b$ şi inversa matricei $A, x_{b i b l}$ şi $A_{b i b l}^{-1}$. Să se afişeze următoarele norme:\n",
        "$$\n",
        "\\begin{gathered}\n",
        "\\left\\|x_{\\text {Gauss }}-x_{\\text {bibl }}\\right\\|_{2} \\\\\n",
        "\\left\\|x_{\\text {Gauss }}-A_{\\text {bibl }}^{-1} b^{i n i t}\\right\\|_{2} .\n",
        "\\end{gathered}\n",
        "$$\n",
        "Aceste norme ar trebui să fie mai mici decât $10^{-6}$."
      ]
    },
    {
      "cell_type": "code",
      "source": [
        "def lib_solve(A, b):\n",
        "    return np.linalg.solve(A, b)\n",
        "\n",
        "def get_norm(V):\n",
        "\n",
        "    return np.linalg.norm(V)\n",
        "\n",
        "def lib_inv(M):\n",
        "  return np.linalg.inv(M)"
      ],
      "metadata": {
        "id": "l7naPg7mgb9u"
      },
      "id": "l7naPg7mgb9u",
      "execution_count": 99,
      "outputs": []
    },
    {
      "cell_type": "code",
      "execution_count": 100,
      "id": "d5060157",
      "metadata": {
        "id": "d5060157",
        "outputId": "3f96ef92-b124-428b-9ff0-242f379e44a8",
        "colab": {
          "base_uri": "https://localhost:8080/"
        }
      },
      "outputs": [
        {
          "output_type": "execute_result",
          "data": {
            "text/plain": [
              "array([-0.10174426,  0.65425972,  0.47732772,  0.25051665, -0.34590668])"
            ]
          },
          "metadata": {},
          "execution_count": 100
        }
      ],
      "source": [
        "x_lib = lib_solve(A, b)\n",
        "x_lib"
      ]
    },
    {
      "cell_type": "code",
      "execution_count": 101,
      "id": "f15d4f0b",
      "metadata": {
        "id": "f15d4f0b",
        "outputId": "f08bdaee-c5c9-48df-e78a-ae10722d3516",
        "colab": {
          "base_uri": "https://localhost:8080/"
        }
      },
      "outputs": [
        {
          "output_type": "execute_result",
          "data": {
            "text/plain": [
              "2.4196749845665633e-16"
            ]
          },
          "metadata": {},
          "execution_count": 101
        }
      ],
      "source": [
        "get_norm(x_gauss - x_lib)"
      ]
    },
    {
      "cell_type": "code",
      "execution_count": 102,
      "id": "9d0fe0f9",
      "metadata": {
        "id": "9d0fe0f9",
        "outputId": "d2827ae6-258f-453f-e6d1-e34d6a5d84c7",
        "colab": {
          "base_uri": "https://localhost:8080/"
        }
      },
      "outputs": [
        {
          "output_type": "execute_result",
          "data": {
            "text/plain": [
              "7.535012591929473e-16"
            ]
          },
          "metadata": {},
          "execution_count": 102
        }
      ],
      "source": [
        "get_norm(x_gauss - lib_inv(A) @ b)"
      ]
    },
    {
      "cell_type": "markdown",
      "id": "2b36d444",
      "metadata": {
        "id": "2b36d444"
      },
      "source": [
        "### 3. Calculul inversei unei matrice folosind metoda lui Gauss\n",
        "\n",
        "Dacă se cunoaşte o metodă numerică de rezolvare a sistemelor liniare (în cazul de faţă se va folosi algoritmul de eliminare Gauss), coloanele matricei inverse se pot aproxima rezolvând $n$ sisteme liniare.\n",
        "Coloana $j$ a matricei $A^{-1}$ se aproximează rezolvând sistemul liniar:\n",
        "$$\n",
        "\\begin{aligned}\n",
        "&A x=e_{j}, j=1,2, \\ldots, n, \\\\\n",
        "&e_{j}=(0, \\ldots, 1,0 \\ldots, 0)^{T}, 1 \\text { este pe poziţia } j \\text { în vectorul } e_{j}\n",
        "\\end{aligned}\n",
        "$$\n",
        "Procedura de calcul a matricei $A_{\\text {Gauss }}^{-1}$ este următoarea:\n",
        "- Se calculează eliminarea Gauss a matricei extinse $\\left[A, I_{n}\\right] \\in \\mathbb{R}^{n \\times 2 n}\\left(I_{n}\\right.$ este matricea unitate de dimensiune $n$ ). Se adaptează varianta a 2-a a algoritmului de eliminare Gauss cu pivotare parţială, astfel încât să modifice toate coloanele matricei $I_{n}$ simultan, împreună cu transformarea matricei $A$ în formă superior triunghiulară. În varianta a 2 -a a algoritmului descrisă mai sus se face transformarea Gauss a matricei $[A, b] \\in \\mathbb{R}^{n \\times(n+1)}$.\n",
        "La final, matricea va avea următoarea formă $\\left[R, I_{\\text {transformat }}\\right]$ unde $R$ este forma superior triunghiulară a matricei $A$ iar $I_{\\text {transformat }}$ este matricea $I_{n}$ modificată conform algoritmului de eliminare Gauss.\n",
        "- for $j=1, \\ldots, n$\n",
        "  1. $b=$ coloana $j$ a matricei $I_{\\text {transformat }}$;\n",
        "  2. se rezolvă sistemul superior triunghiular $R x=b$, folosind metoda substituţiei inverse, se obţine soluţia $x^{*}\\left(x^{*}\\right.$ este soluţia sistemului liniar $A x=e_{j}$);\n",
        "  3. se memorează $x^{*}$ în coloana $j$ a matricei $A_{\\text {Gauss }}^{-1}$;\n",
        "\n",
        "Procedura de mai sus detaliază, în fapt, rezolvarea numerică a ecuaţiei matriceale:\n",
        "\n",
        "$$A X=I_{n}, X \\in \\mathbb{R}^{n \\times n}, I_{n}=\\text { matricea unitate. }$$"
      ]
    },
    {
      "cell_type": "code",
      "execution_count": 103,
      "outputs": [],
      "source": [
        "def pivot2(A, b, l, n):\n",
        "  i0 = 0\n",
        "  max = 0\n",
        "  for i in range(l, n):\n",
        "    if abs(A[i][l]) > max:\n",
        "      max = abs(A[i][l])\n",
        "      i0 = i\n",
        "\n",
        "  temp = np.copy(A[i0])\n",
        "  A[i0] = np.copy(A[l])\n",
        "  A[l] = temp\n",
        "  temp = np.copy(b[i0])\n",
        "  b[i0] = np.copy(b[l])\n",
        "  b[l] = temp\n",
        "  #print(A)\n",
        "  #print(b)\n",
        "  #print(\"Done\")\n",
        "\n",
        "  return A, b"
      ],
      "metadata": {
        "pycharm": {
          "name": "#%%\n"
        },
        "id": "DtDumvnDtt68"
      },
      "id": "DtDumvnDtt68"
    },
    {
      "cell_type": "code",
      "execution_count": 104,
      "outputs": [],
      "source": [
        "def gauss_algorithm(A, b, n):\n",
        "    evo = []\n",
        "    A_copy = np.matrix.copy(A)\n",
        "    A_copy = A_copy.astype('float64')\n",
        "\n",
        "    B_copy = np.copy(b)\n",
        "    B_copy = B_copy.astype('float64')\n",
        "    #evo.append(np.concatenate((A_copy, B_copy[:,None]),axis=1))\n",
        "    # evo.append((A_copy)\n",
        "\n",
        "    for l in range(n - 1):\n",
        "      #if A_copy[l][l] == 0.0:\n",
        "          #print(\"Zero\")\n",
        "      A_copy, B_copy = pivot2(A_copy, B_copy, l, n)\n",
        "\n",
        "      for i in range(l + 1, n):\n",
        "          f = A_copy[i][l] / A_copy[l][l]\n",
        "\n",
        "          # B_copy[i] = B_copy[i] - f * B_copy[l]\n",
        "\n",
        "          for j in range(l + 1, n):\n",
        "            A_copy[i][j] = A_copy[i][j] - f * A_copy[l][j]\n",
        "            B_copy[i][j] = B_copy[i][j] - f * B_copy[l][j]\n",
        "\n",
        "          A_copy[i][l] = 0\n",
        "          #evo.append(np.concatenate((A_copy, B_copy[:,None]),axis=1))\n",
        "          # evo.append((A_copy)\n",
        "\n",
        "    #print(type(A_copy[1][1]), type(A_copy))\n",
        "\n",
        "    return A_copy, B_copy, evo"
      ],
      "metadata": {
        "pycharm": {
          "name": "#%%\n"
        },
        "id": "sZSmnOxZtt68"
      },
      "id": "sZSmnOxZtt68"
    },
    {
      "cell_type": "code",
      "source": [
        "def get_inv(A):\n",
        "  n = len(A)\n",
        "  In = np.identity(n)\n",
        "  R, It, evo = gauss_algorithm(A, In, n)\n",
        "  sol=[]\n",
        "  #print(R)\n",
        "  #print(It)\n",
        "  inv = np.empty(shape=(n, n))\n",
        "  inv.fill(0)\n",
        "\n",
        "  for i in range(n):\n",
        "      # iau coloana corespunzatoare iteratiei din It\n",
        "      b = np.array([It[j][i] for j in range(n)])\n",
        "      #print(R, b)\n",
        "      x = substitution_method(R, b, n)\n",
        "\n",
        "      #pun in coloana i din inversa vectorul solutie\n",
        "      for z in range(n):\n",
        "          inv[z][i] = x[z]\n",
        "\n",
        "  # print(inv)\n",
        "\n",
        "\n",
        "  return inv"
      ],
      "metadata": {
        "id": "nMO6vmV7aPDE"
      },
      "id": "nMO6vmV7aPDE",
      "execution_count": 105,
      "outputs": []
    },
    {
      "cell_type": "code",
      "execution_count": 106,
      "id": "c1ef07c1",
      "metadata": {
        "id": "c1ef07c1",
        "outputId": "46fad1ea-f7ea-4f5e-e5cf-00c4a9dd1166",
        "colab": {
          "base_uri": "https://localhost:8080/"
        }
      },
      "outputs": [
        {
          "output_type": "execute_result",
          "data": {
            "text/plain": [
              "array([[-0.14430167, -1.22212334, -0.77559804, -1.30953316, -0.25826463],\n",
              "       [ 0.37422588,  1.37302318,  0.25528887,  0.43833446,  0.08773039],\n",
              "       [-0.7411154 , -0.86092147,  0.50195326, -0.82190083, -0.15875454],\n",
              "       [ 1.02221992,  1.29775449,  0.68016231,  2.09196994,  0.20544339],\n",
              "       [ 0.74916792,  0.73268268,  0.51193341,  0.88282768,  1.17735529]])"
            ]
          },
          "metadata": {},
          "execution_count": 106
        }
      ],
      "source": [
        "#A = np.array([[2, 0.5, 2], [4, 3, 8], [0, 2, 6]])\n",
        "my_inv = get_inv(A)\n",
        "my_inv @ A"
      ]
    },
    {
      "cell_type": "markdown",
      "id": "404c6882",
      "metadata": {
        "id": "404c6882"
      },
      "source": [
        "Folosind algoritmul de eliminare Gauss, calculaţi o aproximare a inversei acestei matrice, $A_{\\text {Gauss }}^{-1}$. Să se afişeze:\n",
        "$$\n",
        "\\left\\|A_{\\text {Gauss }}^{-1}-A_{\\text {bibl }}^{-1}\\right\\|\n",
        "$$\n",
        "Folosiţi orice normă matriceală este implementată în bibliotecă."
      ]
    },
    {
      "cell_type": "code",
      "execution_count": 107,
      "id": "980af9ef",
      "metadata": {
        "id": "980af9ef",
        "outputId": "fc28c4ca-7a58-4c4c-e003-2b0fafcfc8fd",
        "colab": {
          "base_uri": "https://localhost:8080/"
        }
      },
      "outputs": [
        {
          "output_type": "stream",
          "name": "stdout",
          "text": [
            "[[ 0.02624596  0.00535478  0.00898991 -0.02060418 -0.0049044 ]\n",
            " [-0.00897094 -0.00391305  0.0145223   0.00219841  0.00293568]\n",
            " [ 0.01598906 -0.0021614  -0.01117361  0.01754046 -0.00928956]\n",
            " [-0.02044983  0.01192665 -0.01572998  0.00831335  0.00358667]\n",
            " [-0.01816377 -0.00897544 -0.00098147  0.00140437  0.01754965]]\n"
          ]
        },
        {
          "output_type": "execute_result",
          "data": {
            "text/plain": [
              "0.022182924733992866"
            ]
          },
          "metadata": {},
          "execution_count": 107
        }
      ],
      "source": [
        "print(lib_inv(A))\n",
        "#print(lib_inv(A) @ A)\n",
        "get_norm(lib_inv(A) - my_inv)"
      ]
    },
    {
      "cell_type": "markdown",
      "id": "4cb4c283",
      "metadata": {
        "id": "4cb4c283"
      },
      "source": [
        "**Bonus (25pt)**: Să se adapteze algoritmul de eliminare Gauss cu pivotare parţială pentru matrice tridiagonale de forma:\n",
        "$$\n",
        "A=\\left(\\begin{array}{cccccccc}\n",
        "a_{1} & b_{1} & 0 & 0 & \\cdots & 0 & 0 & 0 \\\\\n",
        "c_{1} & a_{2} & b_{2} & 0 & \\cdots & 0 & 0 & 0 \\\\\n",
        "0 & c_{2} & a_{3} & b_{3} & \\cdots & 0 & 0 & 0 \\\\\n",
        "\\vdots & & & & & & & \\\\\n",
        "0 & 0 & 0 & 0 & \\cdots & c_{n-2} & a_{n-1} & b_{n-1} \\\\\n",
        "0 & 0 & 0 & 0 & \\cdots & 0 & c_{n-1} & a_{n}\n",
        "\\end{array}\\right)\n",
        "$$\n",
        "Să se calculeze soluţia sistemului $A x=g$. La sfârşitul rulării algoritmului de eliminare Gauss pentru matrice tridiagonală, se ajunge la o matrice de forma:\n",
        "$$\n",
        "R=\\left(\\begin{array}{cccccccc}\n",
        "d_{1} & e_{1} & f_{1} & 0 & \\cdots & 0 & 0 & 0 \\\\\n",
        "0 & d_{2} & e_{2} & f_{2} & \\cdots & 0 & 0 & 0 \\\\\n",
        "\\vdots & & & & & & & \\\\\n",
        "0 & 0 & 0 & 0 & \\cdots & d_{n-2} & e_{n-2} & f_{n-2} \\\\\n",
        "0 & 0 & 0 & 0 & \\cdots & 0 & d_{n-1} & e_{n-1} \\\\\n",
        "0 & 0 & 0 & 0 & \\cdots & 0 & 0 & d_{n}\n",
        "\\end{array}\\right)\n",
        "$$\n",
        "La aplicarea algoritmului de eliminare Gauss, să se lucreze doar cu cei 6 vectori $a, b, c, d, e, f$."
      ]
    },
    {
      "cell_type": "markdown",
      "source": [
        "https://en.wikipedia.org/wiki/Tridiagonal_matrix_algorithm\n"
      ],
      "metadata": {
        "id": "H87o2VH9dHnJ"
      },
      "id": "H87o2VH9dHnJ"
    },
    {
      "cell_type": "code",
      "source": [
        "def pivot(a, b, c, f, v, l, n):\n",
        "  if c[l] > a[l]:\n",
        "    a[l], c[l] = c[l], a[l]\n",
        "    b[l], a[l+1] = a[l+1], b[l]\n",
        "    if l < n-2:\n",
        "      f[l], b[l+1] = b[l+1], 0\n",
        "    v[l], v[l+1] = v[l+1], v[l]\n"
      ],
      "metadata": {
        "id": "2uE6UXXiy-jJ"
      },
      "id": "2uE6UXXiy-jJ",
      "execution_count": 136,
      "outputs": []
    },
    {
      "cell_type": "code",
      "execution_count": 137,
      "id": "31851bf5",
      "metadata": {
        "id": "31851bf5"
      },
      "outputs": [],
      "source": [
        "# To be completed by the brave ones\n",
        "\n",
        "def TriDiagonal_Matrix_Algorithm(n,a,b,c,v):\n",
        "  l=0\n",
        "  f = np.zeros(n)\n",
        "  pivot(a, b, c, f, v, l, n)\n",
        "  while l<=n-3 and abs(a[l]) > pow(10,-5):\n",
        "    \n",
        "    ff = c[l] / a[l]\n",
        "    for i in range(l + 1, n):\n",
        "      v[i] = v[i] - ff * v[l]\n",
        "\n",
        "    if l<n-2:\n",
        "      a[l+1] = a[l+1] - ff * b[l]\n",
        "      c[l+1] = c[l+1] -ff * b[l]\n",
        "\n",
        "    if l<n-3:\n",
        "      c[l+2] = c[l+2] -ff * b[l]\n",
        "    if l<n-2:\n",
        "      b[l+1] = b[l+1] - ff * f[l]\n",
        "      a[l+2] = a[l+2] -ff * f[l]\n",
        "\n",
        "    c[l] = 0\n",
        "    l+=1\n",
        "    pivot(a, b, c, f, v, l, n)\n",
        "\n",
        "  d=a\n",
        "  e=b\n",
        "  return d, e, f"
      ]
    },
    {
      "cell_type": "code",
      "source": [
        "n=3\n",
        "a=[2.04]*3\n",
        "b=[-1]*2\n",
        "c=[-1]*2\n",
        "v=[48.8,0.8,0.8]\n",
        "#2.04 1.5498 1.3948\n",
        "#-1 -1\n",
        "#0 uri"
      ],
      "metadata": {
        "id": "BdJi1dVRB3qg"
      },
      "id": "BdJi1dVRB3qg",
      "execution_count": 115,
      "outputs": []
    },
    {
      "cell_type": "code",
      "source": [
        "TriDiagonal_Matrix_Algorithm(n,a,b,c,v)"
      ],
      "metadata": {
        "id": "A5H4AVeZyaCd",
        "outputId": "9eb15757-cb5e-47fc-a792-14d8f229770e",
        "colab": {
          "base_uri": "https://localhost:8080/"
        }
      },
      "id": "A5H4AVeZyaCd",
      "execution_count": 135,
      "outputs": [
        {
          "output_type": "execute_result",
          "data": {
            "text/plain": [
              "([2.04, 0.07921568627450976, -110.08871287128719],\n",
              " [-1, -1.0],\n",
              " array([0., 0., 0.]))"
            ]
          },
          "metadata": {},
          "execution_count": 135
        }
      ]
    }
  ],
  "metadata": {
    "colab": {
      "name": "Copy of Copy of [CN] Tema 2.ipynb",
      "provenance": []
    },
    "kernelspec": {
      "display_name": "Python 3 (ipykernel)",
      "language": "python",
      "name": "python3"
    },
    "language_info": {
      "codemirror_mode": {
        "name": "ipython",
        "version": 3
      },
      "file_extension": ".py",
      "mimetype": "text/x-python",
      "name": "python",
      "nbconvert_exporter": "python",
      "pygments_lexer": "ipython3",
      "version": "3.10.0"
    },
    "widgets": {
      "application/vnd.jupyter.widget-state+json": {
        "3667e163c2734346b13a64c62868e354": {
          "model_module": "@jupyter-widgets/controls",
          "model_name": "VBoxModel",
          "model_module_version": "1.5.0",
          "state": {
            "_dom_classes": [
              "widget-interact"
            ],
            "_model_module": "@jupyter-widgets/controls",
            "_model_module_version": "1.5.0",
            "_model_name": "VBoxModel",
            "_view_count": null,
            "_view_module": "@jupyter-widgets/controls",
            "_view_module_version": "1.5.0",
            "_view_name": "VBoxView",
            "box_style": "",
            "children": [
              "IPY_MODEL_501aad4503514fcdaee6106fcce96130",
              "IPY_MODEL_ba11d0913c9e42ea9506946a27b36a2c"
            ],
            "layout": "IPY_MODEL_74d79eecc5304089bcfb99635fdc20c7"
          }
        },
        "501aad4503514fcdaee6106fcce96130": {
          "model_module": "@jupyter-widgets/controls",
          "model_name": "IntSliderModel",
          "model_module_version": "1.5.0",
          "state": {
            "_dom_classes": [],
            "_model_module": "@jupyter-widgets/controls",
            "_model_module_version": "1.5.0",
            "_model_name": "IntSliderModel",
            "_view_count": null,
            "_view_module": "@jupyter-widgets/controls",
            "_view_module_version": "1.5.0",
            "_view_name": "IntSliderView",
            "continuous_update": true,
            "description": "x",
            "description_tooltip": null,
            "disabled": false,
            "layout": "IPY_MODEL_f396947b033b44a0806e2460260db527",
            "max": 10,
            "min": 0,
            "orientation": "horizontal",
            "readout": true,
            "readout_format": "d",
            "step": 1,
            "style": "IPY_MODEL_abda968cba764870bab851d2d1b96366",
            "value": 10
          }
        },
        "ba11d0913c9e42ea9506946a27b36a2c": {
          "model_module": "@jupyter-widgets/output",
          "model_name": "OutputModel",
          "model_module_version": "1.0.0",
          "state": {
            "_dom_classes": [],
            "_model_module": "@jupyter-widgets/output",
            "_model_module_version": "1.0.0",
            "_model_name": "OutputModel",
            "_view_count": null,
            "_view_module": "@jupyter-widgets/output",
            "_view_module_version": "1.0.0",
            "_view_name": "OutputView",
            "layout": "IPY_MODEL_5226e5494b704daabe30808a16759c07",
            "msg_id": "",
            "outputs": [
              {
                "output_type": "display_data",
                "data": {
                  "text/plain": "<Figure size 432x288 with 2 Axes>",
                  "image/png": "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\n"
                },
                "metadata": {
                  "needs_background": "light"
                }
              }
            ]
          }
        },
        "74d79eecc5304089bcfb99635fdc20c7": {
          "model_module": "@jupyter-widgets/base",
          "model_name": "LayoutModel",
          "model_module_version": "1.2.0",
          "state": {
            "_model_module": "@jupyter-widgets/base",
            "_model_module_version": "1.2.0",
            "_model_name": "LayoutModel",
            "_view_count": null,
            "_view_module": "@jupyter-widgets/base",
            "_view_module_version": "1.2.0",
            "_view_name": "LayoutView",
            "align_content": null,
            "align_items": null,
            "align_self": null,
            "border": null,
            "bottom": null,
            "display": null,
            "flex": null,
            "flex_flow": null,
            "grid_area": null,
            "grid_auto_columns": null,
            "grid_auto_flow": null,
            "grid_auto_rows": null,
            "grid_column": null,
            "grid_gap": null,
            "grid_row": null,
            "grid_template_areas": null,
            "grid_template_columns": null,
            "grid_template_rows": null,
            "height": null,
            "justify_content": null,
            "justify_items": null,
            "left": null,
            "margin": null,
            "max_height": null,
            "max_width": null,
            "min_height": null,
            "min_width": null,
            "object_fit": null,
            "object_position": null,
            "order": null,
            "overflow": null,
            "overflow_x": null,
            "overflow_y": null,
            "padding": null,
            "right": null,
            "top": null,
            "visibility": null,
            "width": null
          }
        },
        "f396947b033b44a0806e2460260db527": {
          "model_module": "@jupyter-widgets/base",
          "model_name": "LayoutModel",
          "model_module_version": "1.2.0",
          "state": {
            "_model_module": "@jupyter-widgets/base",
            "_model_module_version": "1.2.0",
            "_model_name": "LayoutModel",
            "_view_count": null,
            "_view_module": "@jupyter-widgets/base",
            "_view_module_version": "1.2.0",
            "_view_name": "LayoutView",
            "align_content": null,
            "align_items": null,
            "align_self": null,
            "border": null,
            "bottom": null,
            "display": null,
            "flex": null,
            "flex_flow": null,
            "grid_area": null,
            "grid_auto_columns": null,
            "grid_auto_flow": null,
            "grid_auto_rows": null,
            "grid_column": null,
            "grid_gap": null,
            "grid_row": null,
            "grid_template_areas": null,
            "grid_template_columns": null,
            "grid_template_rows": null,
            "height": null,
            "justify_content": null,
            "justify_items": null,
            "left": null,
            "margin": null,
            "max_height": null,
            "max_width": null,
            "min_height": null,
            "min_width": null,
            "object_fit": null,
            "object_position": null,
            "order": null,
            "overflow": null,
            "overflow_x": null,
            "overflow_y": null,
            "padding": null,
            "right": null,
            "top": null,
            "visibility": null,
            "width": null
          }
        },
        "abda968cba764870bab851d2d1b96366": {
          "model_module": "@jupyter-widgets/controls",
          "model_name": "SliderStyleModel",
          "model_module_version": "1.5.0",
          "state": {
            "_model_module": "@jupyter-widgets/controls",
            "_model_module_version": "1.5.0",
            "_model_name": "SliderStyleModel",
            "_view_count": null,
            "_view_module": "@jupyter-widgets/base",
            "_view_module_version": "1.2.0",
            "_view_name": "StyleView",
            "description_width": "",
            "handle_color": null
          }
        },
        "5226e5494b704daabe30808a16759c07": {
          "model_module": "@jupyter-widgets/base",
          "model_name": "LayoutModel",
          "model_module_version": "1.2.0",
          "state": {
            "_model_module": "@jupyter-widgets/base",
            "_model_module_version": "1.2.0",
            "_model_name": "LayoutModel",
            "_view_count": null,
            "_view_module": "@jupyter-widgets/base",
            "_view_module_version": "1.2.0",
            "_view_name": "LayoutView",
            "align_content": null,
            "align_items": null,
            "align_self": null,
            "border": null,
            "bottom": null,
            "display": null,
            "flex": null,
            "flex_flow": null,
            "grid_area": null,
            "grid_auto_columns": null,
            "grid_auto_flow": null,
            "grid_auto_rows": null,
            "grid_column": null,
            "grid_gap": null,
            "grid_row": null,
            "grid_template_areas": null,
            "grid_template_columns": null,
            "grid_template_rows": null,
            "height": null,
            "justify_content": null,
            "justify_items": null,
            "left": null,
            "margin": null,
            "max_height": null,
            "max_width": null,
            "min_height": null,
            "min_width": null,
            "object_fit": null,
            "object_position": null,
            "order": null,
            "overflow": null,
            "overflow_x": null,
            "overflow_y": null,
            "padding": null,
            "right": null,
            "top": null,
            "visibility": null,
            "width": null
          }
        }
      }
    }
  },
  "nbformat": 4,
  "nbformat_minor": 5
}